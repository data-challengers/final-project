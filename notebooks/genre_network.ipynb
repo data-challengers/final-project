{
 "cells": [
  {
   "cell_type": "code",
   "execution_count": 1,
   "metadata": {},
   "outputs": [],
   "source": [
    "import datetime\n",
    "import networkx as nx\n",
    "import pandas as pd\n",
    "from pyvis import network as net"
   ]
  },
  {
   "cell_type": "code",
   "execution_count": 2,
   "metadata": {},
   "outputs": [],
   "source": [
    "# read in json (converts to df)\n",
    "path = \"~/Desktop/SpotifyData/\"\n",
    "\n",
    "spotify_data = pd.read_json(\"StreamingHistory0.json\")\n",
    "\n",
    "# set df as datetime\n",
    "spotify_data['endTime'] = pd.to_datetime(spotify_data['endTime'])\n",
    "\n",
    "# convert from milliseconds to seconds (for readibility)\n",
    "spotify_data['seconds_played'] = spotify_data['msPlayed']/1000"
   ]
  },
  {
   "cell_type": "code",
   "execution_count": 4,
   "metadata": {},
   "outputs": [
    {
     "name": "stdout",
     "output_type": "stream",
     "text": [
      "                 endTime               artistName            trackName  \\\n",
      "0    2020-04-20 20:11:00  Sammy Rae & The Friends         Denim Jacket   \n",
      "1    2020-04-26 20:24:00                     Melt           Sour Candy   \n",
      "2    2020-04-26 20:26:00              Beach Bunny               Sports   \n",
      "3    2020-04-26 20:30:00              Demi Lovato            I Love Me   \n",
      "4    2020-04-26 20:37:00  Sammy Rae & The Friends           Talk It Up   \n",
      "...                  ...                      ...                  ...   \n",
      "9406 2021-04-25 23:42:00              Monophonics    Last One Standing   \n",
      "9407 2021-04-25 23:43:00        Kathryn Gallagher  I'll Get the Coffee   \n",
      "9408 2021-04-25 23:46:00           Ben Thornewill            Songbirds   \n",
      "9409 2021-04-25 23:48:00                Wes Reeve  Never-Ending Summer   \n",
      "9410 2021-04-25 23:52:00               Emma Jayne              Morning   \n",
      "\n",
      "      msPlayed  seconds_played  \n",
      "0        83537          83.537  \n",
      "1        50668          50.668  \n",
      "2       164165         164.165  \n",
      "3       203672         203.672  \n",
      "4       420905         420.905  \n",
      "...        ...             ...  \n",
      "9406     84671          84.671  \n",
      "9407     72910          72.910  \n",
      "9408    192179         192.179  \n",
      "9409    139377         139.377  \n",
      "9410    195262         195.262  \n",
      "\n",
      "[9411 rows x 5 columns]\n"
     ]
    }
   ],
   "source": []
  },
  {
   "cell_type": "code",
   "execution_count": null,
   "metadata": {},
   "outputs": [],
   "source": [
    "# Get list of artists streamed + summarized count of seconds_played for a certain past time frame\n",
    "# Get artist data for "
   ]
  },
  {
   "cell_type": "code",
   "execution_count": null,
   "metadata": {},
   "outputs": [],
   "source": []
  },
  {
   "cell_type": "code",
   "execution_count": null,
   "metadata": {},
   "outputs": [],
   "source": []
  }
 ],
 "metadata": {
  "kernelspec": {
   "display_name": "Python 3",
   "language": "python",
   "name": "python3"
  },
  "language_info": {
   "codemirror_mode": {
    "name": "ipython",
    "version": 3
   },
   "file_extension": ".py",
   "mimetype": "text/x-python",
   "name": "python",
   "nbconvert_exporter": "python",
   "pygments_lexer": "ipython3",
   "version": "3.7.4"
  }
 },
 "nbformat": 4,
 "nbformat_minor": 4
}
