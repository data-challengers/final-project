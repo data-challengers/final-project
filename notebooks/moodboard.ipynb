{
 "cells": [
  {
   "cell_type": "code",
   "execution_count": 49,
   "id": "twelve-concentration",
   "metadata": {},
   "outputs": [],
   "source": [
    "import spotipy\n",
    "import os\n",
    "from collections import defaultdict"
   ]
  },
  {
   "cell_type": "code",
   "execution_count": 1,
   "id": "guided-burlington",
   "metadata": {},
   "outputs": [
    {
     "ename": "NameError",
     "evalue": "name 'os' is not defined",
     "output_type": "error",
     "traceback": [
      "\u001b[1;31m---------------------------------------------------------------------------\u001b[0m",
      "\u001b[1;31mNameError\u001b[0m                                 Traceback (most recent call last)",
      "\u001b[1;32m<ipython-input-1-2785f9e253c3>\u001b[0m in \u001b[0;36m<module>\u001b[1;34m\u001b[0m\n\u001b[1;32m----> 1\u001b[1;33m \u001b[0mclient_id\u001b[0m \u001b[1;33m=\u001b[0m \u001b[0mos\u001b[0m\u001b[1;33m.\u001b[0m\u001b[0menviron\u001b[0m\u001b[1;33m.\u001b[0m\u001b[0mget\u001b[0m\u001b[1;33m(\u001b[0m\u001b[1;34m'SPOTIFY_UNWRAPPED_CLIENT_ID'\u001b[0m\u001b[1;33m)\u001b[0m\u001b[1;33m\u001b[0m\u001b[1;33m\u001b[0m\u001b[0m\n\u001b[0m\u001b[0;32m      2\u001b[0m \u001b[0mclient_secret\u001b[0m \u001b[1;33m=\u001b[0m \u001b[0mos\u001b[0m\u001b[1;33m.\u001b[0m\u001b[0menviron\u001b[0m\u001b[1;33m.\u001b[0m\u001b[0mget\u001b[0m\u001b[1;33m(\u001b[0m\u001b[1;34m'SPOTIFY_UNWRAPPED_CLIENT_SECRET'\u001b[0m\u001b[1;33m)\u001b[0m\u001b[1;33m\u001b[0m\u001b[1;33m\u001b[0m\u001b[0m\n\u001b[0;32m      3\u001b[0m \u001b[0mredirect_uri\u001b[0m \u001b[1;33m=\u001b[0m \u001b[1;34m'http://localhost:8080/callback'\u001b[0m\u001b[1;33m\u001b[0m\u001b[1;33m\u001b[0m\u001b[0m\n\u001b[0;32m      4\u001b[0m sp = spotipy.Spotify(auth_manager=spotipy.SpotifyOAuth(client_id=client_id,\n\u001b[0;32m      5\u001b[0m                                                \u001b[0mclient_secret\u001b[0m\u001b[1;33m=\u001b[0m\u001b[0mclient_secret\u001b[0m\u001b[1;33m,\u001b[0m\u001b[1;33m\u001b[0m\u001b[1;33m\u001b[0m\u001b[0m\n",
      "\u001b[1;31mNameError\u001b[0m: name 'os' is not defined"
     ]
    }
   ],
   "source": [
    "client_id = os.environ.get('SPOTIFY_UNWRAPPED_CLIENT_ID')\n",
    "client_secret = os.environ.get('SPOTIFY_UNWRAPPED_CLIENT_SECRET')\n",
    "redirect_uri = 'http://localhost:8080/callback/'\n",
    "sp = spotipy.Spotify(auth_manager=spotipy.SpotifyOAuth(client_id=client_id,\n",
    "                                               client_secret=client_secret,\n",
    "                                               redirect_uri=redirect_uri,\n",
    "                                               scope=\"user-library-read\"))"
   ]
  },
  {
   "cell_type": "code",
   "execution_count": 4,
   "id": "authentic-patrick",
   "metadata": {},
   "outputs": [
    {
     "name": "stdout",
     "output_type": "stream",
     "text": [
      "   1 spotify:playlist:5vvctWY4rvGVipA0wgd5SL 202105 - the end is a new beginning\n",
      "   2 spotify:playlist:6IV3ObQ71NhJT5tkzIiTDK 202104 - electroswing the pain away\n",
      "   3 spotify:playlist:0zOQOxhyUkjfHx2dwJUTZW 2020 expansion pack\n",
      "   4 spotify:playlist:7EFsZlBiV25DDcUJ7fyKNB consider a spherical cow\n",
      "   5 spotify:playlist:0dNeS7UpIHyDiX4htui096 songs for the end of the world\n",
      "   6 spotify:playlist:3E1KOT5kVGtiAuucsSQfuz AGENT SPIN HERE\n",
      "   7 spotify:playlist:7w4A6FLIb75GAqRi5oP51z i don't dream but if i did this is what it would be like\n",
      "   8 spotify:playlist:0bgeTKhWHtvU8j5s46vAQw songs for any occasion\n",
      "   9 spotify:playlist:6fFIhdv8u6q9fIYNwBDAQv 202103 - wheelies\n",
      "  10 spotify:playlist:38OiUqRY4e0tvAVmzEdWGS 202011 - A nut is a fruit composed of an inedible hard shell and a seed, which is generally edible.\n",
      "  11 spotify:playlist:39e7lkuJE4sJ396PqvNBWe 202010 - focus\n",
      "  12 spotify:playlist:6ESQ3zrloeSJDTBb15HZmr 202009 - clown at the circus\n",
      "  13 spotify:playlist:0ffqfRZhVRzg473ONUJBXf 202008 - hello, world\n",
      "  14 spotify:playlist:7utyCxq42pV81PKiCTfnqr 202007 - ?\n",
      "  15 spotify:playlist:69z14ivkiHhKfQX2AGHPUz 202006 - set me on fire\n",
      "  16 spotify:playlist:6HuxbOwHl3uTx9qK1GTuhS ¯\\_(ツ)_/¯\n",
      "  17 spotify:playlist:2LMLr2l8HZtg1d5p8uoTUg #1 fratellis fan on last dot eff em\n",
      "  18 spotify:playlist:3HTR0EbWn58IO10C169FTZ songs about the moon\n",
      "  19 spotify:playlist:5ErHVbSxWK3q9eHEQ2wO97 not null\n",
      "  20 spotify:playlist:76hpAFZBHsLpkGdaJpJ9m3 watermellon\n",
      "  21 spotify:playlist:3DFBa1SeKA5brRhv9uoha8 bananas foster et al.\n",
      "  22 spotify:playlist:7I9SAUAs036dNbmDv7q36x casker & the friendly ghosts\n",
      "  23 spotify:playlist:2f0rNNhQv6XesP1YRimL87 hmm\n",
      "  24 spotify:playlist:75IpTDlNVinrEt0nyD1ULY auditory pacing\n",
      "  25 spotify:playlist:4OyqvVEGwQgT5xReJsvOxj strange attractors\n",
      "  26 spotify:playlist:3IVl1ESNYMswKmzyFQqwZR you hit the panic button‽\n",
      "  27 spotify:playlist:06whWlA56aJe1Mw9i2OXkF i am (not) a robot\n",
      "  28 spotify:playlist:0bc5HGVwDL30W0wqjINM6Y drum corps whore\n",
      "  29 spotify:playlist:5s8jGHFIhJ3CAZHAlKyybv no pulse no problem\n",
      "  30 spotify:playlist:1W9fXtrYWp0wqhDvfr2aJq ｄｏ ｙｏｕ ｅｖｅｎ ｖａｐｅ\n",
      "  31 spotify:playlist:0yUGPPJZQ5RvULZHdAqaXM i'm mature\n"
     ]
    }
   ],
   "source": [
    "playlists = sp.current_user_playlists(limit=1)\n",
    "while playlists:\n",
    "    for i, playlist in enumerate(playlists['items']):\n",
    "        print(\"%4d %s %s\" % (i + 1 + playlists['offset'], playlist['uri'],  playlist['name']))\n",
    "    if playlists['next']:\n",
    "        playlists = sp.next(playlists)\n",
    "    else:\n",
    "        playlists = None"
   ]
  },
  {
   "cell_type": "code",
   "execution_count": 53,
   "id": "sealed-paradise",
   "metadata": {},
   "outputs": [
    {
     "name": "stdout",
     "output_type": "stream",
     "text": [
      "[defaultdict(<class 'int'>, {'american contemporary classical': 2, 'avant-garde': 2, 'classical': 2, 'compositional ambient': 2, 'contemporary classical': 2, 'minimalism': 2, 'post-minimalism': 2, 'british orchestra': 2, 'orchestra': 3, 'classical performance': 2, 'orchestral performance': 2, 'brostep': 1, 'complextro': 1, 'edm': 2, 'electro house': 1, 'moombahton': 1, 'pop dance': 1, 'progressive electro house': 1, 'hip hop': 1, 'rap': 2, 'colombian pop': 1, 'pop': 2, 'album rock': 1, 'art rock': 1, 'classic rock': 1, 'progressive rock': 1, 'psychedelic rock': 1, 'rock': 2, 'symphonic rock': 1, 'garage rock revival': 2, 'stomp and whittle': 2, 'brooklyn indie': 1, 'indie pop': 1, 'hungarian classical performance': 1, 'city pop': 1, 'j-indie': 1, 'house': 1, 'uk dance': 1, 'lilith': 1, 'australian dance': 1, 'australian electropop': 1, 'australian indie': 1, 'downtempo': 1, 'chicago rap': 1, 'modern indie pop': 1, 'alternative dance': 1, 'indie rock': 1, 'indietronica': 1, 'irish rock': 1, 'modern alternative rock': 1, 'modern rock': 1, 'northern irish indie': 1}), defaultdict(<class 'int'>, {'electro swing': 2, 'nu jazz': 2, 'alternative r&b': 3, 'bedroom pop': 5, 'ann arbor indie': 1, 'funk rock': 1, 'instrumental funk': 1, 'canadian garage rock': 1, 'toronto indie': 1, 'alt z': 2, 'electropop': 2, 'indie pop': 8, 'pop': 6, 'social media pop': 2, 'indie r&b': 2, 'chill r&b': 2, 'modern indie pop': 3, 'alabama indie': 1, 'indie folk': 2, 'indie rock': 7, 'modern blues rock': 1, 'rock': 7, 'bedroom soul': 2, 'lo-fi beats': 2, 'chillhop': 1, 'focus beats': 1, 'la pop': 1, 'k-pop': 1, 'alternative dance': 3, 'indietronica': 3, 'modern rock': 6, 'chillwave': 1, 'experimental hip hop': 1, 'psychedelic hip hop': 1, 'underground hip hop': 3, 'wave': 1, 'witch house': 1, 'etherpop': 1, 'lilith': 1, 'metropopolis': 1, 'boy band': 1, 'hip hop': 4, 'rap': 3, 'minnesota hip hop': 1, 'pop rap': 3, 'rhode island rap': 1, 'latin pop': 1, 'puerto rican pop': 1, 'hollywood': 1, 'la indie': 2, 'dance pop': 2, 'post-teen pop': 2, 'show tunes': 1, 'pittsburgh indie': 1, 'glitchcore': 1, 'latin': 2, 'reggaeton': 2, 'trap latino': 2, 'r&b en espanol': 2, 'r&b': 1, 'urban contemporary': 1, 'brostep': 3, 'complextro': 3, 'edm': 3, 'electro house': 3, 'moombahton': 3, 'pop dance': 3, 'progressive electro house': 3, 'colombian pop': 1, 'alternative metal': 1, 'alternative rock': 1, 'grunge': 1, 'permanent wave': 2, 'pop rock': 2, 'chicago indie': 2, 'garage rock': 1, 'sheffield indie': 1, 'art pop': 1, 'baroque pop': 1, 'chamber pop': 1, 'freak folk': 1, 'melancholia': 1, 'stomp and holler': 2, 'lgbtq+ hip hop': 1, 'neo soul': 1, 'indie garage rock': 3, 'liverpool indie': 1, 'brooklyn indie': 1, 'san diego indie': 2, 'socal indie': 1, 'oc indie': 1, 'korean electropop': 1, 'victoria bc indie': 1, 'funk': 2, 'indie soul': 2, 'modern alternative rock': 1, 'escape room': 1, 'garage rock revival': 1, 'stomp and whittle': 1, 'alternative hip hop': 2, 'roots rock': 1, 'soul': 1, 'southern soul': 1, 'spirituals': 1, 'gangster rap': 1, 'southern hip hop': 1, 'trap': 1, 'virginia hip hop': 1})]\n",
      "['orchestra', 'american contemporary classical', 'avant-garde', 'classical', 'compositional ambient']\n",
      "['indie pop', 'indie rock', 'rock', 'pop', 'modern rock']\n"
     ]
    }
   ],
   "source": [
    "ids = []\n",
    "playlists = sp.current_user_playlists(limit=2)\n",
    "for i in playlists['items']:\n",
    "    ids.append(i['id'])\n",
    "\n",
    "keywords = []\n",
    "for i in ids:\n",
    "    kw = defaultdict(int)\n",
    "#     print(sp.playlist(i))\n",
    "    p = sp.playlist(i)\n",
    "    for track in p['tracks']['items']:\n",
    "        for artist in track['track']['artists']:\n",
    "            if artist['uri']:\n",
    "                artist_data = sp.artist(artist['uri'])\n",
    "                for genre in artist_data['genres']:\n",
    "                    kw[genre] += 1\n",
    "    keywords.append(kw)\n",
    "print(keywords)\n",
    "for k in keywords:\n",
    "    print(sorted(k, key=k.get, reverse=True)[:5])"
   ]
  }
 ],
 "metadata": {
  "kernelspec": {
   "display_name": "Python 3",
   "language": "python",
   "name": "python3"
  },
  "language_info": {
   "codemirror_mode": {
    "name": "ipython",
    "version": 3
   },
   "file_extension": ".py",
   "mimetype": "text/x-python",
   "name": "python",
   "nbconvert_exporter": "python",
   "pygments_lexer": "ipython3",
   "version": "3.8.3"
  }
 },
 "nbformat": 4,
 "nbformat_minor": 5
}
